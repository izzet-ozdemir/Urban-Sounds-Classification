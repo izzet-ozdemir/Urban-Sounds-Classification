{
 "cells": [
  {
   "cell_type": "markdown",
   "metadata": {},
   "source": [
    "## Libraries"
   ]
  },
  {
   "cell_type": "code",
   "execution_count": 41,
   "metadata": {},
   "outputs": [],
   "source": [
    "import pandas as pd\n",
    "import librosa\n",
    "import librosa.display\n",
    "import numpy as np\n",
    "import matplotlib.pyplot as plt\n",
    "import os"
   ]
  },
  {
   "cell_type": "markdown",
   "metadata": {},
   "source": [
    "## Functions"
   ]
  },
  {
   "cell_type": "markdown",
   "metadata": {},
   "source": [
    "##### Okuduğumuz ses dosylarını spectrogram a dönüştüren fonksiyon"
   ]
  },
  {
   "cell_type": "code",
   "execution_count": 42,
   "metadata": {},
   "outputs": [],
   "source": [
    "def create_spectrogram(y):\n",
    "    spec = librosa.feature.melspectrogram(y=y)\n",
    "    spec_conv = librosa.amplitude_to_db(spec, ref = np.max)\n",
    "    return spec_conv"
   ]
  },
  {
   "cell_type": "markdown",
   "metadata": {},
   "source": [
    "##### Spectrogram' larımızı ilgili dizinlere kaydediyoruz."
   ]
  },
  {
   "cell_type": "markdown",
   "metadata": {},
   "source": [
    "##### plt.savefig() fonksiyornu ile elimizdeki resmi veya spectrogramı bilgisayarımıza kaydetmemize yarıyor."
   ]
  },
  {
   "cell_type": "code",
   "execution_count": 43,
   "metadata": {},
   "outputs": [],
   "source": [
    "def save_spectrogram(spectrogram, filename, classid):\n",
    "    if str(classid) not in os.listdir():\n",
    "        os.mkdir(f\"spectrograms/{classid}\")\n",
    "    \n",
    "    save_file_name = filename.split(\".\")[0]\n",
    "    plt.figure()\n",
    "    librosa.display.specshow(spectrogram)\n",
    "    plt.savefig(f\"spectrograms/{classid}/{save_file_name}.png\", bbox_inches=\"tight\", pad_inches=0)\n",
    "    plt.close()"
   ]
  },
  {
   "cell_type": "markdown",
   "metadata": {},
   "source": [
    "Not: spektrogram' ın etrafındaki beyaz border ı kaldırmak için bbox_inches=\"tight\", pad_inches=0ekliyoruz."
   ]
  },
  {
   "cell_type": "markdown",
   "metadata": {},
   "source": [
    "#### Dosya adını ve uzantısını ayırıyoruz"
   ]
  },
  {
   "cell_type": "code",
   "execution_count": 40,
   "metadata": {},
   "outputs": [
    {
     "name": "stdout",
     "output_type": "stream",
     "text": [
      "1000263_3_0_0\n",
      "wav\n",
      "1000263_3_0_0.png\n"
     ]
    }
   ],
   "source": [
    "filename1 = \"1000263_3_0_0.wav\"\n",
    "splited = filename1.split(\".\")\n",
    "print(splited[0])\n",
    "print(splited[1])\n",
    "print(f\"{splited[0]}.png\")"
   ]
  },
  {
   "cell_type": "markdown",
   "metadata": {},
   "source": [
    "##### os.listdir() fonksiyonu içinde bulunduğunuz dizindeki klasör ve dosyaları gösterir."
   ]
  },
  {
   "cell_type": "code",
   "execution_count": 34,
   "metadata": {},
   "outputs": [
    {
     "name": "stdout",
     "output_type": "stream",
     "text": [
      "['DNM', 'Spectrograms.ipynb', 'Spectrograms.py', 'UrbanSound8K.csv', '__pycache__']\n"
     ]
    }
   ],
   "source": [
    "#print(os.listdir())"
   ]
  },
  {
   "cell_type": "code",
   "execution_count": 35,
   "metadata": {},
   "outputs": [
    {
     "name": "stdout",
     "output_type": "stream",
     "text": [
      "Bulunamadı\n"
     ]
    }
   ],
   "source": [
    "if \"spectrograms\" not in os.listdir():\n",
    "    print(\"Bulunamadı\")"
   ]
  },
  {
   "cell_type": "markdown",
   "metadata": {},
   "source": [
    "## Imports"
   ]
  },
  {
   "cell_type": "code",
   "execution_count": 5,
   "metadata": {},
   "outputs": [],
   "source": [
    "df = pd.read_csv(\"UrbanSound8K.csv\")"
   ]
  },
  {
   "cell_type": "code",
   "execution_count": 6,
   "metadata": {},
   "outputs": [
    {
     "data": {
      "text/html": [
       "<div>\n",
       "<style scoped>\n",
       "    .dataframe tbody tr th:only-of-type {\n",
       "        vertical-align: middle;\n",
       "    }\n",
       "\n",
       "    .dataframe tbody tr th {\n",
       "        vertical-align: top;\n",
       "    }\n",
       "\n",
       "    .dataframe thead th {\n",
       "        text-align: right;\n",
       "    }\n",
       "</style>\n",
       "<table border=\"1\" class=\"dataframe\">\n",
       "  <thead>\n",
       "    <tr style=\"text-align: right;\">\n",
       "      <th></th>\n",
       "      <th>slice_file_name</th>\n",
       "      <th>fsID</th>\n",
       "      <th>start</th>\n",
       "      <th>end</th>\n",
       "      <th>salience</th>\n",
       "      <th>fold</th>\n",
       "      <th>classID</th>\n",
       "      <th>class</th>\n",
       "    </tr>\n",
       "  </thead>\n",
       "  <tbody>\n",
       "    <tr>\n",
       "      <th>0</th>\n",
       "      <td>100032-3-0-0.wav</td>\n",
       "      <td>100032</td>\n",
       "      <td>0.0</td>\n",
       "      <td>0.317551</td>\n",
       "      <td>1</td>\n",
       "      <td>5</td>\n",
       "      <td>3</td>\n",
       "      <td>dog_bark</td>\n",
       "    </tr>\n",
       "    <tr>\n",
       "      <th>1</th>\n",
       "      <td>100263-2-0-117.wav</td>\n",
       "      <td>100263</td>\n",
       "      <td>58.5</td>\n",
       "      <td>62.500000</td>\n",
       "      <td>1</td>\n",
       "      <td>5</td>\n",
       "      <td>2</td>\n",
       "      <td>children_playing</td>\n",
       "    </tr>\n",
       "    <tr>\n",
       "      <th>2</th>\n",
       "      <td>100263-2-0-121.wav</td>\n",
       "      <td>100263</td>\n",
       "      <td>60.5</td>\n",
       "      <td>64.500000</td>\n",
       "      <td>1</td>\n",
       "      <td>5</td>\n",
       "      <td>2</td>\n",
       "      <td>children_playing</td>\n",
       "    </tr>\n",
       "    <tr>\n",
       "      <th>3</th>\n",
       "      <td>100263-2-0-126.wav</td>\n",
       "      <td>100263</td>\n",
       "      <td>63.0</td>\n",
       "      <td>67.000000</td>\n",
       "      <td>1</td>\n",
       "      <td>5</td>\n",
       "      <td>2</td>\n",
       "      <td>children_playing</td>\n",
       "    </tr>\n",
       "    <tr>\n",
       "      <th>4</th>\n",
       "      <td>100263-2-0-137.wav</td>\n",
       "      <td>100263</td>\n",
       "      <td>68.5</td>\n",
       "      <td>72.500000</td>\n",
       "      <td>1</td>\n",
       "      <td>5</td>\n",
       "      <td>2</td>\n",
       "      <td>children_playing</td>\n",
       "    </tr>\n",
       "  </tbody>\n",
       "</table>\n",
       "</div>"
      ],
      "text/plain": [
       "      slice_file_name    fsID  start        end  salience  fold  classID  \\\n",
       "0    100032-3-0-0.wav  100032    0.0   0.317551         1     5        3   \n",
       "1  100263-2-0-117.wav  100263   58.5  62.500000         1     5        2   \n",
       "2  100263-2-0-121.wav  100263   60.5  64.500000         1     5        2   \n",
       "3  100263-2-0-126.wav  100263   63.0  67.000000         1     5        2   \n",
       "4  100263-2-0-137.wav  100263   68.5  72.500000         1     5        2   \n",
       "\n",
       "              class  \n",
       "0          dog_bark  \n",
       "1  children_playing  \n",
       "2  children_playing  \n",
       "3  children_playing  \n",
       "4  children_playing  "
      ]
     },
     "execution_count": 6,
     "metadata": {},
     "output_type": "execute_result"
    }
   ],
   "source": [
    "df.head()"
   ]
  },
  {
   "cell_type": "markdown",
   "metadata": {},
   "source": [
    "## Processing"
   ]
  },
  {
   "cell_type": "code",
   "execution_count": 7,
   "metadata": {},
   "outputs": [],
   "source": [
    "path_to_folds = \"D://Artificial_Intelligence/Bootcamps/Deep_Learning_Bootcamp/Project/Data_Project/City_Sounds/UrbanSound8K/audio\"\n",
    "#\"Data_Project/City_Sounds/UrbanSound8K/audio\""
   ]
  },
  {
   "cell_type": "code",
   "execution_count": 44,
   "metadata": {},
   "outputs": [],
   "source": [
    "if \"spectrograms\" not in os.listdir():\n",
    "    os.mkdir(\"spectrograms\")\n",
    "\n",
    "number_of_files = df.shape[0]\n",
    "number_of_process = 0\n",
    "number_of_errors = 0\n",
    "\n",
    "for index, row in df.iterrows():\n",
    "    try:\n",
    "        #print(index)\n",
    "        #print(row)\n",
    "        #print(\"--------------\")\n",
    "        filename = row[\"slice_file_name\"]\n",
    "        classid = row[\"classID\"]\n",
    "        fold = row[\"fold\"]\n",
    "        #print(f\"File Name : {filename} |  ID : {classid} | Fold : {fold}\")\n",
    "        path_to_file = f\"{path_to_folds}/fold{fold}/{filename}\"\n",
    "        #print(path_to_file)\n",
    "        data, sr = librosa.load(path_to_file)\n",
    "        spectrogram = create_spectrogram(data)\n",
    "        save_spectrogram(spectrogram, filename, classid)\n",
    "        break\n",
    "\n",
    "        # python Garbage Collector for döngüsünde çalışırken bazen aksamalar olabiliyor.\n",
    "        # Bunu engellemek için her adımda data, sr ve spectrogram değişkenlerini sildirebiliriz.\n",
    "        del data\n",
    "        del sr\n",
    "        del spectrogram\n",
    "    except:\n",
    "        number_of_errors += 1\n",
    "    finally:\n",
    "        number_of_process += 1\n",
    "        # finally bloğu her ne olursa olsun çalışır. Yani hata alınsa da alınmasada.\n",
    "\n",
    "    print(f\"\\rNumber = {number_of_process} / {number_of_files} | Errors : {number_of_errors}\", end=\"\")\n",
    "    # Not1 : end=\"\" mesajın alt satıra geçmesini engelliyor.\n",
    "    # Not2 : \"\\r\" ise mesajların ya yana yazmasını engelliyor. Böylece hep aynı yere mesajlar güncellenerek yazıyor."
   ]
  },
  {
   "cell_type": "markdown",
   "metadata": {},
   "source": [
    "##### Not: plt.figure() ve plt.show() ekleyerek bu spectrogram a matplotlib objesi gibi davrandırabilirim. figsize ile boyutunu ayarlayabiliriz."
   ]
  },
  {
   "cell_type": "code",
   "execution_count": 30,
   "metadata": {},
   "outputs": [
    {
     "data": {
      "image/png": "[encoded data removed]",
      "text/plain": [
       "<Figure size 144x144 with 1 Axes>"
      ]
     },
     "metadata": {},
     "output_type": "display_data"
    }
   ],
   "source": [
    "plt.figure(figsize=(2,2))\n",
    "librosa.display.specshow(spectrogram)\n",
    "plt.show()"
   ]
  },
  {
   "cell_type": "markdown",
   "metadata": {},
   "source": [
    "#### Örnekleme bakalım"
   ]
  },
  {
   "cell_type": "code",
   "execution_count": 10,
   "metadata": {},
   "outputs": [
    {
     "data": {
      "text/plain": [
       "array([-0.00341243, -0.00506065, -0.00463294, ..., -0.00247565,\n",
       "       -0.00155365, -0.00035246], dtype=float32)"
      ]
     },
     "execution_count": 10,
     "metadata": {},
     "output_type": "execute_result"
    }
   ],
   "source": [
    "data"
   ]
  },
  {
   "cell_type": "markdown",
   "metadata": {},
   "source": [
    "#### Sample Rate (sr) : 1sn. lik ses dosyası için 22050 örnek çıkar demektir."
   ]
  },
  {
   "cell_type": "code",
   "execution_count": 12,
   "metadata": {},
   "outputs": [
    {
     "data": {
      "text/plain": [
       "22050"
      ]
     },
     "execution_count": 12,
     "metadata": {},
     "output_type": "execute_result"
    }
   ],
   "source": [
    "sr"
   ]
  },
  {
   "cell_type": "markdown",
   "metadata": {},
   "source": [
    "#### Not: Örneklem tipimiz numpy dizisi"
   ]
  },
  {
   "cell_type": "code",
   "execution_count": 11,
   "metadata": {},
   "outputs": [
    {
     "data": {
      "text/plain": [
       "numpy.ndarray"
      ]
     },
     "execution_count": 11,
     "metadata": {},
     "output_type": "execute_result"
    }
   ],
   "source": [
    "type(data)"
   ]
  },
  {
   "cell_type": "code",
   "execution_count": 13,
   "metadata": {},
   "outputs": [
    {
     "data": {
      "text/plain": [
       "(7002,)"
      ]
     },
     "execution_count": 13,
     "metadata": {},
     "output_type": "execute_result"
    }
   ],
   "source": [
    "data.shape"
   ]
  },
  {
   "cell_type": "markdown",
   "metadata": {},
   "source": [
    "#### Ek Bilgi : data.shape / sr = ses uzunluğunu verir."
   ]
  },
  {
   "cell_type": "code",
   "execution_count": 19,
   "metadata": {},
   "outputs": [
    {
     "data": {
      "text/plain": [
       "0.31755102040816324"
      ]
     },
     "execution_count": 19,
     "metadata": {},
     "output_type": "execute_result"
    }
   ],
   "source": [
    "data.shape[0] / sr"
   ]
  },
  {
   "cell_type": "markdown",
   "metadata": {},
   "source": [
    "#### Oluşturduğumuz Spektrogram ı görelim."
   ]
  },
  {
   "cell_type": "code",
   "execution_count": 24,
   "metadata": {},
   "outputs": [
    {
     "data": {
      "text/plain": [
       "array([[-80., -80., -80., ..., -80., -80., -80.],\n",
       "       [-80., -80., -80., ..., -80., -80., -80.],\n",
       "       [-80., -80., -80., ..., -80., -80., -80.],\n",
       "       ...,\n",
       "       [-80., -80., -80., ..., -80., -80., -80.],\n",
       "       [-80., -80., -80., ..., -80., -80., -80.],\n",
       "       [-80., -80., -80., ..., -80., -80., -80.]], dtype=float32)"
      ]
     },
     "execution_count": 24,
     "metadata": {},
     "output_type": "execute_result"
    }
   ],
   "source": [
    "spectrogram"
   ]
  }
 ],
 "metadata": {
  "kernelspec": {
   "display_name": "Python 3.9.13 64-bit (windows store)",
   "language": "python",
   "name": "python3"
  },
  "language_info": {
   "codemirror_mode": {
    "name": "ipython",
    "version": 3
   },
   "file_extension": ".py",
   "mimetype": "text/x-python",
   "name": "python",
   "nbconvert_exporter": "python",
   "pygments_lexer": "ipython3",
   "version": "3.9.13"
  },
  "orig_nbformat": 4,
  "vscode": {
   "interpreter": {
    "hash": "822f778737178fe76a6ff500c230e38a1f3004a1451c350514bba9d63e701910"
   }
  }
 },
 "nbformat": 4,
 "nbformat_minor": 2
}
